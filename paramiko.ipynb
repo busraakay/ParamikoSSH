{
 "cells": [
  {
   "cell_type": "markdown",
   "metadata": {},
   "source": [
    "# Paramiko ile SSH Bağlantısı "
   ]
  },
  {
   "cell_type": "markdown",
   "metadata": {},
   "source": [
    "Paramiko kütüphanesini indiriyoruz."
   ]
  },
  {
   "cell_type": "code",
   "execution_count": 1,
   "metadata": {},
   "outputs": [
    {
     "name": "stdout",
     "output_type": "stream",
     "text": [
      "Requirement already satisfied: paramiko in c:\\anaconda3\\lib\\site-packages (2.7.1)\n",
      "Requirement already satisfied: bcrypt>=3.1.3 in c:\\anaconda3\\lib\\site-packages (from paramiko) (3.1.7)\n",
      "Requirement already satisfied: pynacl>=1.0.1 in c:\\anaconda3\\lib\\site-packages (from paramiko) (1.3.0)\n",
      "Requirement already satisfied: cryptography>=2.5 in c:\\anaconda3\\lib\\site-packages (from paramiko) (2.8)\n",
      "Requirement already satisfied: six>=1.4.1 in c:\\anaconda3\\lib\\site-packages (from bcrypt>=3.1.3->paramiko) (1.14.0)\n",
      "Requirement already satisfied: cffi>=1.1 in c:\\anaconda3\\lib\\site-packages (from bcrypt>=3.1.3->paramiko) (1.14.0)\n",
      "Requirement already satisfied: pycparser in c:\\anaconda3\\lib\\site-packages (from cffi>=1.1->bcrypt>=3.1.3->paramiko) (2.19)\n",
      "Note: you may need to restart the kernel to use updated packages.\n"
     ]
    }
   ],
   "source": [
    "pip install paramiko"
   ]
  },
  {
   "cell_type": "markdown",
   "metadata": {},
   "source": [
    "Kütüphaneyi projeye dahil ediyoruz."
   ]
  },
  {
   "cell_type": "code",
   "execution_count": 2,
   "metadata": {},
   "outputs": [],
   "source": [
    "import paramiko"
   ]
  },
  {
   "cell_type": "markdown",
   "metadata": {},
   "source": [
    "SSH bağlantısı yapacağımız sunucunun Ip adresi, kullanıcı adı, şifre ve gönderilecek komut gibi değerleri önceden tanımlayarak paramiko kütüphanesi ile bir client oluşturuyoruz. Oluşturduğumuz client ile bağlantıyı yaparak komutu gönderderiyoruz ve komut sonrası terminale basılacak çıktıları ekrana yazdırdırıyoruz. Son olarak ise bağlantımızı sonlandırdırıyoruz."
   ]
  },
  {
   "cell_type": "code",
   "execution_count": 6,
   "metadata": {},
   "outputs": [
    {
     "name": "stdout",
     "output_type": "stream",
     "text": [
      "toplam 120\n",
      "drwxr-xr-x 19 busra busra 4096 May  3 12:52 .\n",
      "drwxr-xr-x  3 root  root  4096 Ara  3  2020 ..\n",
      "-rw-------  1 busra busra 9857 Nis 28 16:11 .bash_history\n",
      "-rw-r--r--  1 busra busra  220 Ara  3  2020 .bash_logout\n",
      "-rw-r--r--  1 busra busra 3771 Ara  3  2020 .bashrc\n",
      "drwxr-xr-x  6 busra busra 4096 May 17  2021 Belgeler\n",
      "drwx------ 16 busra busra 4096 Nis 28 16:16 .cache\n",
      "drwxr-xr-x 14 busra busra 4096 Nis 30 11:10 .config\n",
      "drwx------  3 busra busra 4096 Ara  5  2020 .emacs.d\n",
      "drwxr-xr-x  2 busra busra 4096 Ara  3  2020 Genel\n",
      "-rw-rw-r--  1 busra busra   56 May  4  2021 .gitconfig\n",
      "drwx------  3 busra busra 4096 Ara 15  2020 .gnupg\n",
      "drwxr-xr-x  3 busra busra 4096 Haz  2  2021 İndirilenler\n",
      "drwxr-xr-x  3 busra busra 4096 Ara  3  2020 .local\n",
      "drwxr-xr-x  6 busra busra 4096 May 17  2021 Masaüstü\n",
      "drwx------  5 busra busra 4096 Ara  3  2020 .mozilla\n",
      "drwxr-xr-x  3 busra busra 4096 May 17  2021 Müzik\n",
      "-rw-r--r--  1 busra busra  807 Ara  3  2020 .profile\n",
      "drwxr-xr-x  3 busra busra 4096 Haz  2  2021 Resimler\n",
      "drwx------  4 busra busra 4096 Ara  5  2020 snap\n",
      "drwx------  2 busra busra 4096 Nis 28 16:15 .ssh\n",
      "-rw-r--r--  1 busra busra    0 Ara  3  2020 .sudo_as_admin_successful\n",
      "drwxr-xr-x  2 busra busra 4096 Ara  3  2020 Şablonlar\n",
      "drwx------  6 busra busra 4096 Ara  3  2020 .thunderbird\n",
      "-rw-r-----  1 busra busra    5 May  3 12:52 .vboxclient-clipboard.pid\n",
      "-rw-r-----  1 busra busra    5 May  3 12:52 .vboxclient-display-svga-x11.pid\n",
      "-rw-r-----  1 busra busra    5 May  3 12:52 .vboxclient-draganddrop.pid\n",
      "-rw-r-----  1 busra busra    5 May  3 12:52 .vboxclient-seamless.pid\n",
      "drwxr-xr-x  2 busra busra 4096 Ara  3  2020 Videolar\n",
      "\n"
     ]
    }
   ],
   "source": [
    "ip = \"192.168.1.7\"\n",
    "kullanici = \"busra\"\n",
    "sifre = \"gokte1yildiz\"\n",
    "komut = \"ls -al\"\n",
    "port = 22\n",
    "\n",
    "ssh = paramiko.SSHClient()\n",
    "ssh.set_missing_host_key_policy(paramiko.AutoAddPolicy())\n",
    "ssh.connect(ip,port,kullanici,sifre,timeout = 10)\n",
    "\n",
    "stdin,stdout,stderr = ssh.exec_command(komut)\n",
    "sonuc = stdout.read()\n",
    "print(sonuc.decode(\"utf-8\"))\n",
    "\n",
    "ssh.close()"
   ]
  }
 ],
 "metadata": {
  "kernelspec": {
   "display_name": "Python 3",
   "language": "python",
   "name": "python3"
  },
  "language_info": {
   "codemirror_mode": {
    "name": "ipython",
    "version": 3
   },
   "file_extension": ".py",
   "mimetype": "text/x-python",
   "name": "python",
   "nbconvert_exporter": "python",
   "pygments_lexer": "ipython3",
   "version": "3.7.6"
  }
 },
 "nbformat": 4,
 "nbformat_minor": 4
}
